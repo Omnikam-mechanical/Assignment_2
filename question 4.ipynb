{
 "cells": [
  {
   "cell_type": "code",
   "execution_count": null,
   "id": "e676d9b7-e4e7-4bf4-8318-da4382edf62e",
   "metadata": {},
   "outputs": [],
   "source": [
    "# Compare and contrast sets and tuples \n",
    "#Compare and contrast tuples and lists with examples.\n",
    "#Tuples and lists are both data structures in Python used to store collections of items. While they share some similarities, they have important differences that affect their use cases and behaviors. Here's a detailed comparison:\n",
    "\n",
    "#Similarities\n",
    "#Indexing and Slicing\n",
    "\n",
    "#Both tuples and lists support indexing and slicing, allowing you to access and manipulate their elements.\n",
    "\n",
    "\n",
    "#1 Example for both tuples and lists\n",
    "my_list = [1, 2, 3, 4]\n",
    "my_tuple = (1, 2, 3, 4)\n",
    "print(my_list[2])    # Output: 3\n",
    "print(my_tuple[2])   # Output: 3\n",
    "\n",
    "#2 Contain Multiple Data Types\n",
    "\n",
    "#3 Both can hold items of different data types.\n",
    "\n",
    "\n",
    "my_list = [1, 'hello', 3.14]\n",
    "my_tuple = (1, 'hello', 3.14)\n",
    "\n",
    "# 4 Iterability\n",
    "\n",
    "#Both can be iterated over in a for-loop.\n",
    "\n",
    "\n",
    "for item in [1, 2, 3]:\n",
    "    print(item)\n",
    "\n",
    "for item in (1, 2, 3):\n",
    "    print(item)\n"
   ]
  },
  {
   "cell_type": "code",
   "execution_count": null,
   "id": "20a99bdb-8809-4302-a788-54c18772f72a",
   "metadata": {},
   "outputs": [],
   "source": [
    "#Differences\n",
    "#1.Mutability\n",
    "\n",
    "#Lists: Mutable. You can modify a list after it is created by adding, removing, or changing its elements.\n",
    "\n",
    "my_list = [1, 2, 3]\n",
    "my_list[1] = 20         # Modify element\n",
    "my_list.append(4)      # Add element\n",
    "my_list.remove(1)      # Remove element\n",
    "\n",
    "#Tuples: Immutable. Once a tuple is created, its elements cannot be changed, added, or removed.\n",
    "\n",
    "\n",
    "my_tuple = (1, 2, 3)\n",
    "my_tuple[1] = 20     # Raises TypeError: 'tuple' object does not support item assignment\n",
    "my_tuple.append(4)  # Raises AttributeError: 'tuple' object has no attribute 'append'\n",
    "\n"
   ]
  },
  {
   "cell_type": "code",
   "execution_count": null,
   "id": "554c798f-bac4-41cf-b0fd-832d7e60e671",
   "metadata": {},
   "outputs": [],
   "source": [
    "\n",
    "#2 Syntax\n",
    "\n",
    "#  Lists: Defined with square brackets [ ].\n",
    "\n",
    "\n",
    "my_list = [1, 2, 3]\n",
    "#  tuple: Defined with parentheses ( ).\n",
    "\n",
    "\n",
    "my_tuple = (1, 2, 3)\n",
    "#Note: A single-element tuple requires a trailing comma to distinguish it from a parenthesized value.\n",
    "single_element_tuple = (1,)  # Correct\n",
    "not_a_tuple = (1) # Not a tuple, just an integer in parentheses\n"
   ]
  },
  {
   "cell_type": "code",
   "execution_count": null,
   "id": "96c31614-d9b8-4bfc-a3cb-3eda3012f1c1",
   "metadata": {},
   "outputs": [],
   "source": []
  },
  {
   "cell_type": "code",
   "execution_count": null,
   "id": "0891ff9a-8d5e-4fe6-89d5-ae6e974f66b9",
   "metadata": {},
   "outputs": [],
   "source": [
    "#3 Performance\n",
    "\n",
    "#Lists: Generally have a slightly higher memory overhead due to their mutable nature and the ability to grow dynamically.\n",
    "\n",
    "#Tuples: Tend to be faster and use less memory than lists because they are immutable and have a fixed size."
   ]
  },
  {
   "cell_type": "code",
   "execution_count": null,
   "id": "8f047f05-6130-4e32-a523-e0e93ddd61b6",
   "metadata": {},
   "outputs": [],
   "source": [
    "#4 Use Cases\n",
    "\n",
    "#Lists: Used when you need a collection of items that may change over time. Ideal for scenarios where elements are frequently added, removed, or updated.\n",
    "\n",
    "\n",
    "shopping_list = ['milk', 'bread', 'eggs']\n",
    "#Tuples: Used for fixed collections of items where immutability is desired. Commonly used to group related data together or as dictionary keys (since tuples are hashable and lists are not).\n",
    "\n",
    "coordinates = (40.7128, -74.0060)  # Latitude and Longitudepython\n",
    "\n"
   ]
  },
  {
   "cell_type": "code",
   "execution_count": null,
   "id": "2ef2b993-e513-4776-9c71-7d90ad588f7f",
   "metadata": {},
   "outputs": [],
   "source": [
    "# 5 list operations\n",
    "my_list = [1, 2, 3]\n",
    "my_list.append(4)  # Adds 4 to the end\n",
    "my_list.sort()     # Sorts the list in place\n",
    "#Tuples: Have very limited methods, essentially count() and index(), because they are immutable.\n",
    "\n",
    "my_tuple = (1, 2, 3, 1)\n",
    "print(my_tuple.count(1))  # Output: 2\n",
    "print(my_tuple.index(2))  # Output: 1\n"
   ]
  },
  {
   "cell_type": "code",
   "execution_count": null,
   "id": "db1bb2b6-454b-4cf1-82e1-754bd4da266a",
   "metadata": {},
   "outputs": [],
   "source": [
    "#Summary\n",
    "#Lists are mutable, use square brackets, and are suited for collections of items that change over time.\n",
    "#Tuples are immutable, use parentheses, and are ideal for fixed collections of items or where immutability is required."
   ]
  }
 ],
 "metadata": {
  "kernelspec": {
   "display_name": "Python 3 (ipykernel)",
   "language": "python",
   "name": "python3"
  },
  "language_info": {
   "codemirror_mode": {
    "name": "ipython",
    "version": 3
   },
   "file_extension": ".py",
   "mimetype": "text/x-python",
   "name": "python",
   "nbconvert_exporter": "python",
   "pygments_lexer": "ipython3",
   "version": "3.10.8"
  }
 },
 "nbformat": 4,
 "nbformat_minor": 5
}
