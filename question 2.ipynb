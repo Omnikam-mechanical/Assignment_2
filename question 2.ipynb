{
 "cells": [
  {
   "cell_type": "code",
   "execution_count": 3,
   "id": "d2b2f738-ed48-499d-9bda-1d16196fd19e",
   "metadata": {},
   "outputs": [
    {
     "name": "stdout",
     "output_type": "stream",
     "text": [
      "10\n",
      "6\n",
      "1\n",
      "2\n",
      "3\n"
     ]
    }
   ],
   "source": [
    "# 2Explain ther key features of lists in python\n",
    "#Ordered\n",
    "#Definition: Lists maintain the order of elements as they are added.\n",
    "\n",
    "#Implication: You can access elements by their index, and the order of insertion is preserved.\n",
    "\n",
    "\n",
    "my_list = [10, 20, 30]\n",
    "print(my_list[0])  # Output: 10\n",
    "\n",
    "\n",
    "matrix = [[1, 2, 3], [4, 5, 6], [7, 8, 9]]\n",
    "print(matrix[1][2])  # Output: 6\n",
    "\n",
    "\n",
    "my_list = [3, 1, 4, 1]\n",
    "my_list.sort()        # Sorts the list in place\n",
    "\n",
    "#9. Iteration\n",
    "#Definition: Lists can be iterated over using loops or comprehensions.\n",
    "\n",
    "#Implication: Makes it easy to perform operations on each element.\n",
    "\n",
    "\n",
    "for item in [1, 2, 3]:\n",
    "    print(item)\n",
    "#Summary\n",
    "#Python lists are a fundamental and flexible data structure, supporting ordered and mutable collections of heterogeneous items. They offer dynamic sizing, indexing and slicing capabilities, and various built-in methods, making them an essential tool for many programming tasks.\n",
    "\n",
    "\n"
   ]
  },
  {
   "cell_type": "code",
   "execution_count": 6,
   "id": "b8cd7fe2-ca28-4c8f-812a-0ad76df5d940",
   "metadata": {},
   "outputs": [],
   "source": [
    "#2. Mutable\n",
    "#Definition: Lists can be modified after their creation.\n",
    "\n",
    "#Implication: You can change, add, or remove elements.\n",
    "my_list = [10, 20, 30]\n",
    "my_list[1] = 25        # Change element at index 1\n",
    "my_list.append(40)    # Add an element to the end\n",
    "my_list.remove(10)# Remove first occurrence of value 10\n"
   ]
  },
  {
   "cell_type": "code",
   "execution_count": 9,
   "id": "86d6d1fb-202c-42f6-9434-afecd7882686",
   "metadata": {},
   "outputs": [],
   "source": [
    "#3. Heterogeneous Elements\n",
    "#Definition: Lists can contain elements of different data types.\n",
    "\n",
    "#Implication: You can mix integers, strings, floats, or even other lists within a single list.\n",
    "\n",
    "\n",
    "mixed_list = [1, \"hello\", 3.14, [1, 2, 3]]"
   ]
  },
  {
   "cell_type": "code",
   "execution_count": 8,
   "id": "22cb62f5-5e0f-4b9d-b3ad-490cc7011896",
   "metadata": {},
   "outputs": [
    {
     "data": {
      "text/plain": [
       "4"
      ]
     },
     "execution_count": 8,
     "metadata": {},
     "output_type": "execute_result"
    }
   ],
   "source": [
    "#4. Dynamic Size\n",
    "#Definition: Lists can grow or shrink in size dynamically.\n",
    "\n",
    "#Implication: You don’t need to specify the size of the list ahead of time.\n",
    "\n",
    "\n",
    "my_list = [1, 2, 3]\n",
    "my_list.append(4)     # List grows\n",
    "my_list.pop()         # List shrinks\n"
   ]
  },
  {
   "cell_type": "code",
   "execution_count": 10,
   "id": "224c786d-3ab3-42d7-95f5-319d6eb7b982",
   "metadata": {},
   "outputs": [
    {
     "name": "stdout",
     "output_type": "stream",
     "text": [
      "[20, 30, 40]\n"
     ]
    }
   ],
   "source": [
    "#5. Indexing and Slicing\n",
    "#Definition: Lists support indexing and slicing to access or modify subsets of elements.\n",
    "\n",
    "#Implication: You can retrieve a single element or a range of elements.\n",
    "\n",
    "\n",
    "my_list = [10, 20, 30, 40, 50]\n",
    "print(my_list[1:4])   # Output: [20, 30, 40]"
   ]
  },
  {
   "cell_type": "code",
   "execution_count": 15,
   "id": "fde3f372-81ff-4647-b2fc-482cecb36387",
   "metadata": {},
   "outputs": [],
   "source": [
    "#6. List Comprehensions\n",
    "#Definition: A concise way to create lists using an existing iterable.\n",
    "\n",
    "#Implication: Allows for more readable and compact code.\n",
    "\n",
    "\n",
    "squares = [x**2 for x in range(5)]  # Output: [0, 1, 4, 9, 16]"
   ]
  },
  {
   "cell_type": "code",
   "execution_count": 16,
   "id": "b4410217-c2f3-46ec-acc4-ed22f31d9f49",
   "metadata": {},
   "outputs": [
    {
     "name": "stdout",
     "output_type": "stream",
     "text": [
      "6\n"
     ]
    }
   ],
   "source": [
    "#7. Nested Lists\n",
    "#Definition: Lists can contain other lists.\n",
    "\n",
    "#Implication: Useful for representing matrices or more complex structures.\n",
    "\n",
    "\n",
    "matrix = [[1, 2, 3], [4, 5, 6], [7, 8, 9]]\n",
    "print(matrix[1][2])  # Output: 6"
   ]
  },
  {
   "cell_type": "code",
   "execution_count": 17,
   "id": "6fa6e6ae-7cfe-42dc-b1d1-5da03a5827b8",
   "metadata": {},
   "outputs": [],
   "source": [
    "#8. Built-in Methods\n",
    "#Definition: Lists come with a variety of built-in methods for common operations.\n",
    "\n",
    "#Implication: Methods like append(), extend(), insert(), remove(), pop(), and sort() provide a lot of functionality out of the box.\n",
    "\n",
    "\n",
    "my_list = [3, 1, 4, 1]\n",
    "my_list.sort()        # Sorts the list in place\n"
   ]
  },
  {
   "cell_type": "code",
   "execution_count": null,
   "id": "9caee09d-9425-4131-b3f4-21fe1d494460",
   "metadata": {},
   "outputs": [],
   "source": []
  }
 ],
 "metadata": {
  "kernelspec": {
   "display_name": "Python 3 (ipykernel)",
   "language": "python",
   "name": "python3"
  },
  "language_info": {
   "codemirror_mode": {
    "name": "ipython",
    "version": 3
   },
   "file_extension": ".py",
   "mimetype": "text/x-python",
   "name": "python",
   "nbconvert_exporter": "python",
   "pygments_lexer": "ipython3",
   "version": "3.10.8"
  }
 },
 "nbformat": 4,
 "nbformat_minor": 5
}
