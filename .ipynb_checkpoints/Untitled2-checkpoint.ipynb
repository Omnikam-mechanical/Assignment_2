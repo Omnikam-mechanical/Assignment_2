{
 "cells": [
  {
   "cell_type": "code",
   "execution_count": 1,
   "id": "9a56dba2-1880-4354-ae1f-a51eb7851996",
   "metadata": {},
   "outputs": [
    {
     "name": "stdout",
     "output_type": "stream",
     "text": [
      "b\n"
     ]
    }
   ],
   "source": [
    "#Accessing, modifying, and deleting elements in a Python list are fundamental operations. Here's how you can perform each of these tasks with examples:\n",
    "\n",
    "# You can access elements in a list using indexing. Python uses zero-based indexing, so the first element is at index 0, the second at index 1, and so on.\n",
    "\n",
    "#Examples:\n",
    "#Accessing a Single Element\n",
    "\n",
    "\n",
    "my_list = ['a', 'b', 'c', 'd']\n",
    "print(my_list[1])  # Output: 'b'\n",
    "# If the value is not found, it raises a ValueError.\n",
    "\n"
   ]
  },
  {
   "cell_type": "code",
   "execution_count": null,
   "id": "c7c1af13-7e99-4a17-8fe2-31eaa50df915",
   "metadata": {},
   "outputs": [],
   "source": [
    "#Accessing a Range of Elements (Slicing)\n",
    "\n",
    "\n",
    "my_list = [10, 20, 30, 40, 50]\n",
    "print(my_list[1:4])  # Output: [20, 30, 40]\n",
    "Here, my_list[1:4] returns a new list with elements from index 1 to 3."
   ]
  },
  {
   "cell_type": "code",
   "execution_count": null,
   "id": "64c325c3-e0c7-4bdd-9664-e416138314b3",
   "metadata": {},
   "outputs": [],
   "source": [
    "#Modifying Elements\n",
    "#You can modify elements by directly assigning a new value to a specific index. Lists are mutable, so their contents can be changed.\n",
    "\n",
    "#Examples:\n",
    "#Modifying a Single Element\n",
    "\n",
    "\n",
    "my_list = [10, 20, 30, 40]\n",
    "my_list[2] = 99\n",
    "print(my_list)  # Output: [10, 20, 99, 40]\n",
    "Here, my_list[2] is updated to 99."
   ]
  },
  {
   "cell_type": "code",
   "execution_count": null,
   "id": "419ad480-2e17-47fa-8daf-a98fd137ef5a",
   "metadata": {},
   "outputs": [],
   "source": [
    "#Modifying a Range of Elements\n",
    "\n",
    "\n",
    "my_list = [1, 2, 3, 4, 5]\n",
    "my_list[1:4] = [20, 30, 40]\n",
    "print(my_list)  # Output: [1, 20, 30, 40, 5]\n",
    "#In this example, the elements from index 1 to 3 are replaced with [20, 30, 40].\n"
   ]
  },
  {
   "cell_type": "code",
   "execution_count": null,
   "id": "30f83532-4d48-4588-b6ae-9049bf3cb2fe",
   "metadata": {},
   "outputs": [],
   "source": [
    "#Deleting a Single Element by Index\n",
    "\n",
    "\n",
    "my_list = ['a', 'b', 'c', 'd']\n",
    "del my_list[2]\n",
    "print(my_list)  # Output: ['a', 'b', 'd']"
   ]
  },
  {
   "cell_type": "code",
   "execution_count": null,
   "id": "efafe1d1-ab09-4fb7-ba07-202f8c5dc16f",
   "metadata": {},
   "outputs": [],
   "source": [
    "#Deleting a Range of Elements\n",
    "\n",
    "\n",
    "my_list = [1, 2, 3, 4, 5]\n",
    "del my_list[1:4]\n",
    "print(my_list)  # Output: [1, 5]"
   ]
  },
  {
   "cell_type": "code",
   "execution_count": null,
   "id": "5e838c40-fa31-47b2-83af-8b005d476b95",
   "metadata": {},
   "outputs": [],
   "source": [
    "#Using pop()\n",
    "\n",
    "#Removing and Returning an Element by Index\n",
    "\n",
    "\n",
    "my_list = [10, 20, 30, 40]\n",
    "removed_element = my_list.pop(1)\n",
    "print(removed_element)  # Output: 20\n",
    "print(my_list)          # Output: [10, 30, 40]"
   ]
  },
  {
   "cell_type": "code",
   "execution_count": null,
   "id": "b1cc70ff-ee8b-49f0-b73e-58102564a480",
   "metadata": {},
   "outputs": [],
   "source": [
    "#Removing the Last Element (without an index)\n",
    "\n",
    "\n",
    "my_list = [1, 2, 3, 4]\n",
    "last_element = my_list.pop()\n",
    "print(last_element)  # Output: 4\n",
    "print(my_list)       # Output: [1, 2, 3]"
   ]
  },
  {
   "cell_type": "code",
   "execution_count": null,
   "id": "db2381b2-adc6-4b39-81d4-3c64fd1c22bf",
   "metadata": {},
   "outputs": [],
   "source": [
    "#Using remove()\n",
    "\n",
    "#Removing the First Occurrence of a Value\n",
    "\n",
    "\n",
    "my_list = [10, 20, 30, 20]\n",
    "my_list.remove(20)\n",
    "print(my_list)  # Output: [10, 30, 20]"
   ]
  }
 ],
 "metadata": {
  "kernelspec": {
   "display_name": "Python 3 (ipykernel)",
   "language": "python",
   "name": "python3"
  },
  "language_info": {
   "codemirror_mode": {
    "name": "ipython",
    "version": 3
   },
   "file_extension": ".py",
   "mimetype": "text/x-python",
   "name": "python",
   "nbconvert_exporter": "python",
   "pygments_lexer": "ipython3",
   "version": "3.10.8"
  }
 },
 "nbformat": 4,
 "nbformat_minor": 5
}
