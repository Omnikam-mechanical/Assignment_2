{
 "cells": [
  {
   "cell_type": "code",
   "execution_count": 1,
   "id": "445b20d9-e517-4700-9a43-408c83a5a65f",
   "metadata": {},
   "outputs": [
    {
     "name": "stdout",
     "output_type": "stream",
     "text": [
      "{'name': 'Alice', 'age': 30, 'city': 'New York'}\n"
     ]
    }
   ],
   "source": [
    "#describe how \n",
    "#1. Adding Items\n",
    "#You can add new key-value pairs to a dictionary by assigning a value to a new key.\n",
    "\n",
    "#Example\n",
    "\n",
    "# Initialize a dictionary\n",
    "my_dict = {'name': 'Alice', 'age': 30}\n",
    "\n",
    "# Add a new key-value pair\n",
    "my_dict['city'] = 'New York'\n",
    "\n",
    "print(my_dict)\n",
    "# Output: {'name': 'Alice', 'age': 30, 'city': 'New York'}\n",
    "#In this example, 'city': 'New York' is added to the dictionary.\n",
    "\n"
   ]
  },
  {
   "cell_type": "code",
   "execution_count": 2,
   "id": "ba159594-a897-415d-ad84-e61b16f382af",
   "metadata": {},
   "outputs": [
    {
     "name": "stdout",
     "output_type": "stream",
     "text": [
      "{'name': 'Alice', 'age': 31, 'city': 'New York'}\n"
     ]
    }
   ],
   "source": [
    "#2. Modifying Items\n",
    "# modify an existing item in a dictionary, you can assign a new value to an existing key.\n",
    "\n",
    "#Example\n",
    "\n",
    "# Initialize a dictionary\n",
    "my_dict = {'name': 'Alice', 'age': 30, 'city': 'New York'}\n",
    "\n",
    "# Modify the value associated with an existing key\n",
    "my_dict['age'] = 31\n",
    "\n",
    "print(my_dict)\n",
    "# Output: {'name': 'Alice', 'age': 31, 'city': 'New York'}\n",
    "#Here, the value for the key 'age' is updated from 30 to 31."
   ]
  },
  {
   "cell_type": "code",
   "execution_count": 4,
   "id": "f7fd132f-601f-4847-b317-aabbe519dd75",
   "metadata": {},
   "outputs": [
    {
     "name": "stdout",
     "output_type": "stream",
     "text": [
      "{'name': 'Alice', 'age': 30}\n",
      "New York\n",
      "{'name': 'Alice', 'age': 30}\n"
     ]
    }
   ],
   "source": [
    "#3. Deleting Items\n",
    "#There are several methods to delete items from a dictionary:\n",
    "\n",
    "#Using del\n",
    "#The del statement removes a key-value pair by specifying the key.\n",
    "\n",
    "#Example\n",
    "\n",
    "# Initialize a dictionary\n",
    "my_dict = {'name': 'Alice', 'age': 30, 'city': 'New York'}\n",
    "\n",
    "# Delete a key-value pair\n",
    "del my_dict['city']\n",
    "\n",
    "print(my_dict)\n",
    "# Output: {'name': 'Alice', 'age': 30}\n",
    "#In this example, the key 'city' and its associated value are removed from the dictionary.\n",
    "\n",
    "#Using pop()\n",
    "#The pop() method removes a key-value pair and returns the value associated with the key. If the key is not found, it raises a KeyError.\n",
    "\n",
    "\n",
    "# Initialize a dictionary\n",
    "my_dict = {'name': 'Alice', 'age': 30, 'city': 'New York'}\n",
    "\n",
    "# Remove a key-value pair and get the value\n",
    "city_value = my_dict.pop('city')\n",
    "\n",
    "print(city_value)  # Output: New York\n",
    "print(my_dict)     # Output: {'name': 'Alice', 'age': 30}\n",
    "#Here, the pop() method removes the 'city' key and returns its value, which is then stored in city_value.\n"
   ]
  },
  {
   "cell_type": "code",
   "execution_count": null,
   "id": "0df100e9-3953-47d7-b19a-550e5dbb376f",
   "metadata": {},
   "outputs": [],
   "source": []
  }
 ],
 "metadata": {
  "kernelspec": {
   "display_name": "Python 3 (ipykernel)",
   "language": "python",
   "name": "python3"
  },
  "language_info": {
   "codemirror_mode": {
    "name": "ipython",
    "version": 3
   },
   "file_extension": ".py",
   "mimetype": "text/x-python",
   "name": "python",
   "nbconvert_exporter": "python",
   "pygments_lexer": "ipython3",
   "version": "3.10.8"
  }
 },
 "nbformat": 4,
 "nbformat_minor": 5
}
