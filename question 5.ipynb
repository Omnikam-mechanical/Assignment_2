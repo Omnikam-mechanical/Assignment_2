{
 "cells": [
  {
   "cell_type": "code",
   "execution_count": null,
   "id": "a643ab34-c3f0-4a78-9d03-bf9599781c4a",
   "metadata": {},
   "outputs": [],
   "source": [
    "#Sets in Python are a built-in data type that represents a collection of unique elements. They are highly useful for a variety of operations involving collections of data. Here’s a detailed look at the key features of sets, along with examples:\n",
    "\n",
    "#Key Features of Sets\n",
    "#1Unordered\n",
    "\n",
    "#Definition: Sets do not maintain any order of the elements.\n",
    "\n",
    "#Implication: You cannot access elements by index or order. Instead, you work with elements based on their presence or absence in the set.\n",
    "\n",
    "\n",
    "my_set = {1, 2, 3, 4}\n",
    "print(my_set)  # Output: {1, 2, 3, 4} (order is not guaranteed)"
   ]
  },
  {
   "cell_type": "code",
   "execution_count": null,
   "id": "4bd6d522-6c82-4c36-a93a-0dbb56abf65c",
   "metadata": {},
   "outputs": [],
   "source": [
    "#2Unique Elements\n",
    "\n",
    "#Definition: Sets automatically enforce uniqueness; duplicate elements are not allowed.\n",
    "\n",
    "#Implication: If you try to add a duplicate element, it will not be added.\n",
    "\n",
    "\n",
    "my_set = {1, 2, 3, 2}\n",
    "print(my_set)  # Output: {1, 2, 3}"
   ]
  },
  {
   "cell_type": "code",
   "execution_count": null,
   "id": "c19aa6d1-7a8b-4e12-b2ce-b8459efc50ab",
   "metadata": {},
   "outputs": [],
   "source": [
    "#3Mutable\n",
    "\n",
    "#Definition: Sets are mutable, meaning you can add or remove elements after the set is created.\n",
    "\n",
    "#Implication: You can modify the contents of a set, but you cannot change individual elements since sets are unordered.\n",
    "\n",
    "\n",
    "my_set = {1, 2, 3}\n",
    "my_set.add(4)        # Adds element 4 to the set\n",
    "my_set.remove(2)     # Removes element 2 from the set"
   ]
  },
  {
   "cell_type": "code",
   "execution_count": null,
   "id": "a7191d89-7069-4443-938d-c9272bbbae89",
   "metadata": {},
   "outputs": [],
   "source": [
    "#4Set Operations\n",
    "\n",
    "#Definition: Sets support various mathematical operations, including union, intersection, difference, and symmetric difference.\n",
    "\n",
    "# These operations are useful for comparing and combining sets.\n",
    "\n",
    "\n",
    "set1 = {1, 2, 3}\n",
    "set2 = {3, 4, 5}\n",
    "\n",
    "union_set = set1 | set2         # Union: {1, 2, 3, 4, 5}\n",
    "intersection_set = set1 & set2  # Intersection: {3}\n",
    "difference_set = set1 - set2    # Difference: {1, 2}\n",
    "sym_diff_set = set1 ^ set2      # Symmetric Difference: {1, 2, 4, 5}"
   ]
  },
  {
   "cell_type": "code",
   "execution_count": null,
   "id": "82b3241c-cacc-41f0-a200-e088137b50a6",
   "metadata": {},
   "outputs": [],
   "source": [
    "#5Set Comprehensions\n",
    "\n",
    "#Definition: Similar to list comprehensions, set comprehensions provide a concise way to create sets.\n",
    "\n",
    "#Implication: Useful for generating sets with specific patterns or conditions.\n",
    "\n",
    "\n",
    "squares = {x**2 for x in range(5)}\n",
    "print(squares)  # Output: {0, 1, 4, 9, 16}"
   ]
  },
  {
   "cell_type": "code",
   "execution_count": null,
   "id": "b594adfb-0683-4808-89a8-445b1d6f1162",
   "metadata": {},
   "outputs": [],
   "source": [
    "#6No Indexing or Slicing\n",
    "\n",
    "#Definition: Since sets are unordered, you cannot use indexing or slicing to access elements.\n",
    "\n",
    "#Implication: To check membership or iterate through elements, use methods or loops.\n",
    "\n",
    "my_set = {1, 2, 3}\n",
    "print(1 in my_set)  # Output: True"
   ]
  },
  {
   "cell_type": "code",
   "execution_count": null,
   "id": "70f265ff-9f7f-4a98-bfde-b7475ac8280e",
   "metadata": {},
   "outputs": [],
   "source": [
    "#7 Set Methods\n",
    "\n",
    "#Definition: Sets come with various built-in methods for adding, removing, and checking elements, as well as performing set operations.\n",
    "\n",
    "#Implication: Methods like add(), remove(), discard(), pop(), and clear() help manage set contents.\n",
    "\n",
    "\n",
    "my_set = {1, 2, 3}\n",
    "my_set.add(4)          # Adds 4 to the set\n",
    "my_set.discard(2)      # Removes 2 from the set (no error if 2 is not present)\n",
    "popped_element = my_set.pop()  # Removes and returns an arbitrary element\n",
    "my_set.clear()         # Removes all elements from the set"
   ]
  },
  {
   "cell_type": "code",
   "execution_count": null,
   "id": "858e189b-98fb-4a37-a193-3780bf55fa0d",
   "metadata": {},
   "outputs": [],
   "source": [
    "#8Frozensets\n",
    "\n",
    "#Definition: Frozensets are immutable versions of sets. They are hashable and can be used as dictionary keys or elements of other sets.\n",
    "\n",
    "#Implication: You cannot add or remove elements from a frozenset.\n",
    "\n",
    "\n",
    "frozen_set = frozenset([1, 2, 3])\n",
    "# frozen_set.add(4)   # Raises AttributeError: 'frozenset' object has no attribute 'add'"
   ]
  },
  {
   "cell_type": "code",
   "execution_count": null,
   "id": "11ef040e-0095-4bd6-bc39-2a77ffc1abec",
   "metadata": {},
   "outputs": [],
   "source": [
    "#Examples of Their Use\n",
    "#1Removing Duplicates\n",
    "\n",
    "#Sets are commonly used to remove duplicates from a list.\n",
    "\n",
    "\n",
    "my_list = [1, 2, 2, 3, 4, 4, 5]\n",
    "unique_elements = set(my_list)\n",
    "print(unique_elements)  # Output: {1, 2, 3, 4, 5}\n"
   ]
  },
  {
   "cell_type": "code",
   "execution_count": null,
   "id": "b2db4e81-4ec0-45be-bc4d-1ee927d412b9",
   "metadata": {},
   "outputs": [],
   "source": [
    "#2Membership Testing\n",
    "\n",
    "#Sets provide efficient membership testing compared to lists.\n",
    "\n",
    "\n",
    "my_set = {1, 2, 3}\n",
    "print(2 in my_set)  # Output: True\n",
    "print(4 in my_set)  # Output: False"
   ]
  },
  {
   "cell_type": "code",
   "execution_count": null,
   "id": "e1541e19-edbc-49cd-b20a-e28653e94465",
   "metadata": {},
   "outputs": [],
   "source": [
    "#3Set Operations for Analysis\n",
    "\n",
    "#Use set operations to analyze relationships between data sets.\n",
    "\n",
    "\n",
    "students_A = {\"Alice\", \"Bob\", \"Charlie\"}\n",
    "students_B = {\"Charlie\", \"David\", \"Eve\"}\n",
    "\n",
    "common_students = students_A & students_B   # {'Charlie'}\n",
    "all_students = students_A | students_B      # {'Alice', 'Bob', 'Charlie', 'David', 'Eve'}\n",
    "only_in_A = students_A - students_B        # {'Alice', 'Bob'}\n",
    "only_in_B = students_B - students_A        # {'David', 'Eve'}"
   ]
  }
 ],
 "metadata": {
  "kernelspec": {
   "display_name": "Python 3 (ipykernel)",
   "language": "python",
   "name": "python3"
  },
  "language_info": {
   "codemirror_mode": {
    "name": "ipython",
    "version": 3
   },
   "file_extension": ".py",
   "mimetype": "text/x-python",
   "name": "python",
   "nbconvert_exporter": "python",
   "pygments_lexer": "ipython3",
   "version": "3.10.8"
  }
 },
 "nbformat": 4,
 "nbformat_minor": 5
}
