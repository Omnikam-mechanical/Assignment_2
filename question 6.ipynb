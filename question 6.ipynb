{
 "cells": [
  {
   "cell_type": "code",
   "execution_count": 1,
   "id": "5a743785-fb91-4228-9984-c30fcf9ae3ee",
   "metadata": {},
   "outputs": [
    {
     "name": "stdout",
     "output_type": "stream",
     "text": [
      "(1, 7)\n"
     ]
    }
   ],
   "source": [
    "#discuss the use cases of tuples and sets in python programming.\n",
    "#Tuples\n",
    "#1Immutable Data Collection\n",
    "\n",
    "#Use Case: When you need a collection of items that should not be changed after creation, such as fixed configurations or constants.\n",
    "#Example: Storing geographic coordinates (latitude, longitude) where immutability ensures data integrity.\n",
    "\n",
    "location = (40.7128, -74.0060)  # New York City coordinates\n",
    "\n",
    "#2Function Return Values\n",
    "\n",
    "#Use Case: Returning multiple values from a function, where each value has a distinct meaning.\n",
    "#Example: A function that returns both the maximum and minimum values in a dataset.\n",
    "\n",
    "def min_max(values):\n",
    "    return (min(values), max(values))\n",
    "\n",
    "result = min_max([1, 3, 5, 7])\n",
    "print(result)  # Output: (1, 7)\n",
    "\n",
    "#3Dictionary Keys\n",
    "\n",
    "#Use Case: Tuples can be used as keys in dictionaries because they are hashable and immutable.\n",
    "#Example: Using a tuple to represent a unique coordinate in a grid as a dictionary key.\n",
    "\n",
    "grid = {}\n",
    "grid[(0, 0)] = \"Start\"\n",
    "grid[(1, 1)] = \"End\"\n",
    "#4Data Integrity\n",
    "\n",
    "#Use Case: When you want to ensure that the data cannot be altered, such as in records or fixed-format data.\n",
    "#Example: Representing a person's name and age in a tuple.\n",
    "\n",
    "person = (\"John Doe\", 30)"
   ]
  },
  {
   "cell_type": "code",
   "execution_count": 2,
   "id": "f53ea773-4fec-416b-9474-4c7486041a97",
   "metadata": {},
   "outputs": [
    {
     "name": "stdout",
     "output_type": "stream",
     "text": [
      "{'user2@example.com', 'user1@example.com'}\n",
      "{'Bob'}\n",
      "True\n",
      "{'Bob', 'Charlie', 'Alice'}\n"
     ]
    }
   ],
   "source": [
    "#Sets\n",
    "#1Unique Element Collections\n",
    "\n",
    "#Use Case: When you need a collection of items where duplicates are not allowed, such as managing unique user IDs.\n",
    "#Example: Storing a list of unique email addresses.\n",
    "\n",
    "unique_emails = {\"user1@example.com\", \"user2@example.com\", \"user1@example.com\"}\n",
    "print(unique_emails)  # Output: {'user1@example.com', 'user2@example.com'}\n",
    "#2Set Operations\n",
    "\n",
    "#Use Case: Performing mathematical set operations like union, intersection, difference, and symmetric difference.\n",
    "#Example: Finding common friends between two groups.\n",
    "\n",
    "friends_group1 = {\"Alice\", \"Bob\", \"Charlie\"}\n",
    "friends_group2 = {\"Bob\", \"David\", \"Eve\"}\n",
    "\n",
    "common_friends = friends_group1 & friends_group2\n",
    "print(common_friends)  # Output: {'Bob'}\n",
    "#3Membership Testing\n",
    "\n",
    "#Use Case: Efficiently checking if an item is present in a collection.\n",
    "#Example: Checking if a user ID exists in a set of active user IDs.\n",
    "\n",
    "active_users = {\"user123\", \"user456\", \"user789\"}\n",
    "print(\"user123\" in active_users)  # Output: True\n",
    "#4Eliminating Duplicates\n",
    "\n",
    "#Use Case: Removing duplicates from a list or other iterable.\n",
    "#Example: Converting a list of names to a set to remove duplicates.\n",
    "\n",
    "names = [\"Alice\", \"Bob\", \"Alice\", \"Charlie\"]\n",
    "unique_names = set(names)\n",
    "print(unique_names)  # Output: {'Alice', 'Charlie', 'Bob'}"
   ]
  },
  {
   "cell_type": "code",
   "execution_count": null,
   "id": "37c0a30a-7099-4f9c-a837-d292936ca1cd",
   "metadata": {},
   "outputs": [],
   "source": []
  }
 ],
 "metadata": {
  "kernelspec": {
   "display_name": "Python 3 (ipykernel)",
   "language": "python",
   "name": "python3"
  },
  "language_info": {
   "codemirror_mode": {
    "name": "ipython",
    "version": 3
   },
   "file_extension": ".py",
   "mimetype": "text/x-python",
   "name": "python",
   "nbconvert_exporter": "python",
   "pygments_lexer": "ipython3",
   "version": "3.10.8"
  }
 },
 "nbformat": 4,
 "nbformat_minor": 5
}
