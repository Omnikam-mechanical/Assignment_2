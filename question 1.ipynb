{
 "cells": [
  {
   "cell_type": "code",
   "execution_count": null,
   "id": "f1cc8eb9-fb46-4d70-b7df-b77088b7578d",
   "metadata": {},
   "outputs": [],
   "source": [
    "# 1. Discuss string slicing priovid examples.\n",
    "#String slicing is a powerful feature in many programming languages, including Python, that allows you to extract a substring from a string based on specified indices. \n",
    "#Here’s a basic rundown of how it works:\n",
    "\n",
    "#Syntax\n",
    "#In Python, the syntax for slicing a string is:\n",
    "'''\n",
    "string[start:stop:step]\n",
    "start: The starting index of the slice (inclusive).\n",
    "stop: The ending index of the slice (exclusive).\n",
    "step: The step size or interval between characters in the slice.\n",
    "'''\n",
    "#Examples\n",
    "#Basic Slicing\n",
    "\n",
    "text = \"Hello, World!\"\n",
    "slice1 = text[0:5]  # 'Hello'\n",
    "Here, text[0:5] extracts characters from index 0 to index 4.\n",
    "\n",
    "#Omitting Start or Stop\n",
    "\n",
    "\n",
    "slice2 = text[:5]   # 'Hello'\n",
    "slice3 = text[7:]   # 'World!'\n",
    "text[:5] extracts from the start up to index 4.\n",
    "text[7:] extracts from index 7 to the end of the string.\n",
    "Using Step\n",
    "\n",
    "python\n",
    "Copy code\n",
    "slice4 = text[::2]  # 'Hlo ol!'\n",
    "Here, text[::2] extracts every second character from the string.\n",
    "\n",
    "Negative Indices\n",
    "\n",
    "python\n",
    "Copy code\n",
    "slice5 = text[-6:-1]  # 'World'\n",
    "Negative indices count from the end of the string, so -6 is the index for the first 'W' in 'World', and -1 is one position past the last character 'd'.\n",
    "\n",
    "Reverse a String\n",
    "\n",
    "python\n",
    "Copy code\n",
    "reverse_text = text[::-1]  # '!dlroW ,olleH'\n",
    "Here, text[::-1] reverses the entire string by using a step of -1.\n",
    "\n",
    "Advanced Examples\n",
    "Extracting Substrings with Steps\n",
    "\n",
    "python\n",
    "Copy code\n",
    "text = \"Python Programming\"\n",
    "slice6 = text[0:15:3]  # 'Ph rgm'\n",
    "This extracts every 3rd character from the start index 0 to index 14.\n",
    "\n",
    "Skipping Over Characters\n",
    "\n",
    "python\n",
    "Copy code\n",
    "text = \"ABCDEFGHIJKLMNOPQRSTUVWXYZ\"\n",
    "slice7 = text[::4]  # 'AEIMQUY'\n",
    "Here, text[::4] extracts every 4th character from the string."
   ]
  },
  {
   "cell_type": "code",
   "execution_count": null,
   "id": "5649047c-c8fc-4131-a7a3-5c7eb9a49bf3",
   "metadata": {},
   "outputs": [],
   "source": []
  },
  {
   "cell_type": "code",
   "execution_count": null,
   "id": "10d5eae7-c865-4294-a8c3-72f2d5c5d31b",
   "metadata": {},
   "outputs": [],
   "source": []
  },
  {
   "cell_type": "code",
   "execution_count": null,
   "id": "26c9fc58-43cd-4c68-bf7e-a0203be5f7bc",
   "metadata": {},
   "outputs": [],
   "source": [
    "#Omitting Start or Stop\n",
    "\n",
    "\n",
    "slice2 = text[:5]   # 'Hello'\n",
    "slice3 = text[7:]   # 'World!'\n",
    "text[:5]# extracts from the start up to index 4.\n",
    "text[7:]# extracts from index 7 to the end of the string."
   ]
  },
  {
   "cell_type": "code",
   "execution_count": null,
   "id": "6941b518-5e97-46b0-9695-8b8ff86ff1c8",
   "metadata": {},
   "outputs": [],
   "source": [
    "#Using Step\n",
    "\n",
    "slice4 = text[::2]  # 'Hlo ol!'\n",
    "Here, text[::2]# extracts every second character from the string.\n",
    "\n",
    "Negative Indices"
   ]
  },
  {
   "cell_type": "code",
   "execution_count": null,
   "id": "bbf7987b-0a7e-4865-a999-c234c7072978",
   "metadata": {},
   "outputs": [],
   "source": [
    "# Negative Indices\n",
    "\n",
    "slice5 = text[-6:-1]  # 'World'\n",
    "#Negative indices count from the end of the string, so -6 is the index for the first 'W' in 'World', and -1 is one position past the last character 'd'.\n",
    "\n",
    "\n",
    "slice5 = text[-6:-1]  # 'World'\n",
    "#Negative indices count from the end of the string, so -6 is the index for the first 'W' in 'World', and -1 is one position past the last character 'd'.\n"
   ]
  },
  {
   "cell_type": "code",
   "execution_count": null,
   "id": "0b22e20e-4cb7-4013-9541-9cdaf33e5b96",
   "metadata": {},
   "outputs": [],
   "source": [
    "#Reverse a String\n",
    "\n",
    "\n",
    "reverse_text = text[::-1]  # '!dlroW ,olleH'\n",
    "#Here, text[::-1] reverses the entire string by using a step of -1.\n"
   ]
  },
  {
   "cell_type": "code",
   "execution_count": null,
   "id": "82020e3b-0686-408a-b253-01be1ad003ec",
   "metadata": {},
   "outputs": [],
   "source": [
    "#Advanced Examples\n",
    "#Extracting Substrings with Steps\n",
    "\n",
    "\n",
    "text = \"Python Programming\"\n",
    "slice6 = text[0:15:3]  # 'Ph rgm'\n",
    "#This extracts every 3rd character from the start index 0 to index 14.\n",
    "\n",
    "\n",
    "text = \"ABCDEFGHIJKLMNOPQRSTUVWXYZ\"\n",
    "slice7 = text[::4]  # 'AEIMQUY'\n",
    "#Here, text[::4] extracts every 4th character from the string."
   ]
  }
 ],
 "metadata": {
  "kernelspec": {
   "display_name": "Python 3 (ipykernel)",
   "language": "python",
   "name": "python3"
  },
  "language_info": {
   "codemirror_mode": {
    "name": "ipython",
    "version": 3
   },
   "file_extension": ".py",
   "mimetype": "text/x-python",
   "name": "python",
   "nbconvert_exporter": "python",
   "pygments_lexer": "ipython3",
   "version": "3.10.8"
  }
 },
 "nbformat": 4,
 "nbformat_minor": 5
}
